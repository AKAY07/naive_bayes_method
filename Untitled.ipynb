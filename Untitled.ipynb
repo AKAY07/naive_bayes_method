{
 "cells": [
  {
   "cell_type": "code",
   "execution_count": 56,
   "metadata": {},
   "outputs": [
    {
     "name": "stdout",
     "output_type": "stream",
     "text": [
      "(15, 6)\n"
     ]
    },
    {
     "data": {
      "text/html": [
       "<div>\n",
       "<style scoped>\n",
       "    .dataframe tbody tr th:only-of-type {\n",
       "        vertical-align: middle;\n",
       "    }\n",
       "\n",
       "    .dataframe tbody tr th {\n",
       "        vertical-align: top;\n",
       "    }\n",
       "\n",
       "    .dataframe thead th {\n",
       "        text-align: right;\n",
       "    }\n",
       "</style>\n",
       "<table border=\"1\" class=\"dataframe\">\n",
       "  <thead>\n",
       "    <tr style=\"text-align: right;\">\n",
       "      <th></th>\n",
       "      <th>RID</th>\n",
       "      <th>Age</th>\n",
       "      <th>Income</th>\n",
       "      <th>Student</th>\n",
       "      <th>Credit-Rating</th>\n",
       "      <th>Class-BuysComputer</th>\n",
       "    </tr>\n",
       "  </thead>\n",
       "  <tbody>\n",
       "    <tr>\n",
       "      <td>0</td>\n",
       "      <td>1.0</td>\n",
       "      <td>youth</td>\n",
       "      <td>high</td>\n",
       "      <td>no</td>\n",
       "      <td>fair</td>\n",
       "      <td>no</td>\n",
       "    </tr>\n",
       "    <tr>\n",
       "      <td>1</td>\n",
       "      <td>2.0</td>\n",
       "      <td>youth</td>\n",
       "      <td>high</td>\n",
       "      <td>no</td>\n",
       "      <td>excellent</td>\n",
       "      <td>no</td>\n",
       "    </tr>\n",
       "    <tr>\n",
       "      <td>2</td>\n",
       "      <td>3.0</td>\n",
       "      <td>middle-age</td>\n",
       "      <td>high</td>\n",
       "      <td>no</td>\n",
       "      <td>fair</td>\n",
       "      <td>yes</td>\n",
       "    </tr>\n",
       "    <tr>\n",
       "      <td>3</td>\n",
       "      <td>4.0</td>\n",
       "      <td>senior</td>\n",
       "      <td>medium</td>\n",
       "      <td>no</td>\n",
       "      <td>fair</td>\n",
       "      <td>yes</td>\n",
       "    </tr>\n",
       "    <tr>\n",
       "      <td>4</td>\n",
       "      <td>5.0</td>\n",
       "      <td>senior</td>\n",
       "      <td>medium</td>\n",
       "      <td>no</td>\n",
       "      <td>fair</td>\n",
       "      <td>yes</td>\n",
       "    </tr>\n",
       "  </tbody>\n",
       "</table>\n",
       "</div>"
      ],
      "text/plain": [
       "   RID         Age  Income Student Credit-Rating Class-BuysComputer\n",
       "0  1.0       youth    high      no          fair                 no\n",
       "1  2.0       youth    high      no     excellent                 no\n",
       "2  3.0  middle-age    high      no          fair                yes\n",
       "3  4.0      senior  medium      no          fair                yes\n",
       "4  5.0      senior  medium      no          fair                yes"
      ]
     },
     "execution_count": 56,
     "metadata": {},
     "output_type": "execute_result"
    }
   ],
   "source": [
    "%matplotlib inline\n",
    "import numpy as np\n",
    "import pandas as pd\n",
    "import matplotlib.pyplot as plt\n",
    "plt.rcParams['figure.figsize']=(40.0,20.0)\n",
    "\n",
    "#reading data in csv format\n",
    "data=pd.read_csv('age_credit.csv')\n",
    "print(data.shape)\n",
    "data.head()"
   ]
  },
  {
   "cell_type": "code",
   "execution_count": 57,
   "metadata": {},
   "outputs": [],
   "source": [
    "age=data['Age'].values\n",
    "income=data['Income'].values\n",
    "student=data['Student'].values\n",
    "creditranking=data['Credit-Rating'].values\n",
    "buyscomp=data['Class-BuysComputer'].values\n",
    "\n",
    "\n"
   ]
  },
  {
   "cell_type": "code",
   "execution_count": 58,
   "metadata": {},
   "outputs": [
    {
     "name": "stdout",
     "output_type": "stream",
     "text": [
      "youth high no\n"
     ]
    }
   ],
   "source": [
    "print(age[0],income[0],student[0])"
   ]
  },
  {
   "cell_type": "code",
   "execution_count": 59,
   "metadata": {},
   "outputs": [
    {
     "name": "stdout",
     "output_type": "stream",
     "text": [
      "9 5\n"
     ]
    }
   ],
   "source": [
    "##  enter details to check#\n",
    "agecheck=\"middle-age\"\n",
    "incomecheck=\"high\"\n",
    "studentcheck=\"no\"\n",
    "creditcheck=\"fair\"\n",
    "total_yes=0\n",
    "total_no=0\n",
    "\n",
    "\n",
    "m=len(age)\n",
    "\n",
    "\n",
    "for i in range(m-1):\n",
    "    if(buyscomp[i]==\"yes\"):\n",
    "        total_yes=total_yes+1\n",
    "    else:\n",
    "        total_no=total_no+1\n",
    "       \n",
    "\n",
    "p_total_yes=total_yes/(m-1)\n",
    "p_total_no=total_no/(m-1)\n",
    "\n",
    "\n",
    "\n"
   ]
  },
  {
   "cell_type": "code",
   "execution_count": 60,
   "metadata": {
    "scrolled": false
   },
   "outputs": [],
   "source": [
    "\n",
    "\n",
    "\n",
    "age_prob_y=0\n",
    "age_prob_n=0\n",
    "\n",
    "income_prob_y=0\n",
    "income_prob_n=0\n",
    "\n",
    "student_prob_y=0\n",
    "student_prob_n=0\n",
    "\n",
    "creditranking_prob_y=0\n",
    "creditranking_prob_n=0\n",
    "\n",
    "for i in range(m-1):\n",
    "    if age[i]==agecheck and buyscomp[i]==\"yes\":\n",
    "        age_prob_y=age_prob_y+1\n",
    "       \n",
    "        \n",
    "    elif age[i]==agecheck and buyscomp[i]==\"no\":\n",
    "        age_prob_n=age_prob_n+1\n",
    "        \n",
    "        \n",
    "for i in range(m-1):\n",
    "    if income[i]==incomecheck and buyscomp[i]==\"yes\":\n",
    "        income_prob_y=income_prob_y+1\n",
    "        \n",
    "        \n",
    "    elif income[i]==incomecheck and buyscomp[i]==\"no\":\n",
    "        income_prob_n=income_prob_n+1 \n",
    "        \n",
    "for i in range(m-1):\n",
    "    if student[i]==studentcheck and buyscomp[i]==\"yes\":\n",
    "        student_prob_y=student_prob_y+1\n",
    "        \n",
    "        \n",
    "    elif student[i]==studentcheck and buyscomp[i]==\"no\":\n",
    "        student_prob_n=student_prob_n+1 \n",
    "\n",
    "\n",
    "        \n",
    "for i in range(m-1):\n",
    "        if creditranking[i]==creditcheck and buyscomp[i]==\"yes\":\n",
    "            creditranking_prob_y=creditranking_prob_y+1\n",
    "        \n",
    "        \n",
    "        elif creditranking[i]==creditcheck and buyscomp[i]==\"no\":\n",
    "            creditranking_prob_n=creditranking_prob_n+1\n",
    "\n",
    "            \n",
    "\n",
    "age_prob_y=age_prob_y/total_yes\n",
    "age_prob_n=age_prob_n/total_no\n",
    "\n",
    "\n",
    "income_prob_y=income_prob_y/total_yes\n",
    "income_prob_n=income_prob_n/total_no\n",
    "\n",
    "student_prob_y=student_prob_y/total_yes\n",
    "student_prob_n=student_prob_n/total_no\n",
    "\n",
    "creditranking_prob_y=creditranking_prob_y/total_yes\n",
    "creditranking_prob_n=creditranking_prob_n/total_no\n",
    "\n",
    "\n",
    "\n",
    "\n",
    "\n"
   ]
  },
  {
   "cell_type": "code",
   "execution_count": 61,
   "metadata": {},
   "outputs": [],
   "source": [
    "final_yes_prob=age_prob_y*income_prob_y*student_prob_y*creditranking_prob_y*p_total_yes\n",
    "\n",
    "final_no_prob=age_prob_n*income_prob_n*student_prob_n*creditranking_prob_n*p_total_no\n"
   ]
  },
  {
   "cell_type": "code",
   "execution_count": 62,
   "metadata": {},
   "outputs": [
    {
     "name": "stdout",
     "output_type": "stream",
     "text": [
      "0.0188124632569077 0.0\n",
      "yes he will buy a computer\n"
     ]
    }
   ],
   "source": [
    "#print(final_yes_prob,final_no_prob)\n",
    "\n",
    "\n",
    "if(final_yes_prob>final_no_prob):\n",
    "    print(\"yes he will buy a computer\")\n",
    "else:\n",
    "    print(\"no computer will be bought\")"
   ]
  },
  {
   "cell_type": "code",
   "execution_count": null,
   "metadata": {},
   "outputs": [],
   "source": []
  },
  {
   "cell_type": "code",
   "execution_count": null,
   "metadata": {},
   "outputs": [],
   "source": []
  }
 ],
 "metadata": {
  "kernelspec": {
   "display_name": "Python 3",
   "language": "python",
   "name": "python3"
  },
  "language_info": {
   "codemirror_mode": {
    "name": "ipython",
    "version": 3
   },
   "file_extension": ".py",
   "mimetype": "text/x-python",
   "name": "python",
   "nbconvert_exporter": "python",
   "pygments_lexer": "ipython3",
   "version": "3.7.3"
  }
 },
 "nbformat": 4,
 "nbformat_minor": 2
}
